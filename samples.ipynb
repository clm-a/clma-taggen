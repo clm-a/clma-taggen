{
 "cells": [
  {
   "cell_type": "markdown",
   "metadata": {},
   "source": [
    "## LDA"
   ]
  },
  {
   "cell_type": "code",
   "execution_count": 13,
   "metadata": {},
   "outputs": [],
   "source": [
    "import tags_generator.lda.query as lda_query\n",
    "lda_model, id2word, topic_keywords = lda_query.load_model()"
   ]
  },
  {
   "cell_type": "code",
   "execution_count": 8,
   "metadata": {},
   "outputs": [
    {
     "data": {
      "text/plain": [
       "['python']"
      ]
     },
     "execution_count": 8,
     "metadata": {},
     "output_type": "execute_result"
    }
   ],
   "source": [
    "lda_query.suggest_tags(\"How to install python on windows\", lda_model, id2word, topic_keywords)"
   ]
  },
  {
   "cell_type": "markdown",
   "metadata": {},
   "source": [
    "## Word2Vec"
   ]
  },
  {
   "cell_type": "code",
   "execution_count": 1,
   "metadata": {},
   "outputs": [],
   "source": [
    "import tags_generator.word2vec.query as word2vec_query\n",
    "w2v_model, classifier, mlb = word2vec_query.load_model()"
   ]
  },
  {
   "cell_type": "code",
   "execution_count": 2,
   "metadata": {},
   "outputs": [
    {
     "data": {
      "text/plain": [
       "('autocomplete',\n",
       " 'boto3',\n",
       " 'cpython',\n",
       " 'flask',\n",
       " 'gunicorn',\n",
       " 'jupyter',\n",
       " 'jupyter-notebook',\n",
       " 'numpy',\n",
       " 'openai-api',\n",
       " 'pip',\n",
       " 'pycharm',\n",
       " 'pyenv',\n",
       " 'pylance',\n",
       " 'pyspark',\n",
       " 'python',\n",
       " 'python-2.7',\n",
       " 'python-3.10',\n",
       " 'python-3.11',\n",
       " 'python-3.12',\n",
       " 'python-3.7',\n",
       " 'python-3.8',\n",
       " 'python-3.9',\n",
       " 'python-3.x',\n",
       " 'python-internals',\n",
       " 'python-poetry',\n",
       " 'python-typing',\n",
       " 'python-venv',\n",
       " 'spyder',\n",
       " 'tensorflow',\n",
       " 'tkinter',\n",
       " 'ubuntu-20.04',\n",
       " 'virtualenv',\n",
       " 'visual-studio-code')"
      ]
     },
     "execution_count": 2,
     "metadata": {},
     "output_type": "execute_result"
    }
   ],
   "source": [
    "word2vec_query.suggest_tags(\"python?\", w2v_model, classifier, mlb)"
   ]
  }
 ],
 "metadata": {
  "kernelspec": {
   "display_name": ".venv",
   "language": "python",
   "name": "python3"
  },
  "language_info": {
   "codemirror_mode": {
    "name": "ipython",
    "version": 3
   },
   "file_extension": ".py",
   "mimetype": "text/x-python",
   "name": "python",
   "nbconvert_exporter": "python",
   "pygments_lexer": "ipython3",
   "version": "3.11.4"
  }
 },
 "nbformat": 4,
 "nbformat_minor": 2
}
