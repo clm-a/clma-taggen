{
 "cells": [
  {
   "cell_type": "code",
   "execution_count": 1,
   "id": "positive-beverage",
   "metadata": {
    "execution": {
     "iopub.execute_input": "2021-06-25T09:34:45.600971Z",
     "iopub.status.busy": "2021-06-25T09:34:45.600493Z",
     "iopub.status.idle": "2021-06-25T09:34:51.830754Z",
     "shell.execute_reply": "2021-06-25T09:34:51.830322Z",
     "shell.execute_reply.started": "2021-06-25T08:15:18.959128Z"
    },
    "papermill": {
     "duration": 6.27635,
     "end_time": "2021-06-25T09:34:51.830871",
     "exception": false,
     "start_time": "2021-06-25T09:34:45.554521",
     "status": "completed"
    },
    "tags": []
   },
   "outputs": [
    {
     "name": "stdout",
     "output_type": "stream",
     "text": [
      "Requirement already satisfied: beautifulsoup4 in ./.pyvenv/lib/python3.11/site-packages (4.12.3)\n",
      "Requirement already satisfied: soupsieve>1.2 in ./.pyvenv/lib/python3.11/site-packages (from beautifulsoup4) (2.6)\n",
      "Note: you may need to restart the kernel to use updated packages.\n",
      "Requirement already satisfied: langdetect in ./.pyvenv/lib/python3.11/site-packages (1.0.9)\n",
      "Requirement already satisfied: six in ./.pyvenv/lib/python3.11/site-packages (from langdetect) (1.16.0)\n",
      "Note: you may need to restart the kernel to use updated packages.\n",
      "Requirement already satisfied: numpy in ./.pyvenv/lib/python3.11/site-packages (1.26.4)\n",
      "Note: you may need to restart the kernel to use updated packages.\n",
      "Requirement already satisfied: nltk in ./.pyvenv/lib/python3.11/site-packages (3.9.1)\n",
      "Requirement already satisfied: click in ./.pyvenv/lib/python3.11/site-packages (from nltk) (8.1.7)\n",
      "Requirement already satisfied: joblib in ./.pyvenv/lib/python3.11/site-packages (from nltk) (1.4.2)\n",
      "Requirement already satisfied: regex>=2021.8.3 in ./.pyvenv/lib/python3.11/site-packages (from nltk) (2024.7.24)\n",
      "Requirement already satisfied: tqdm in ./.pyvenv/lib/python3.11/site-packages (from nltk) (4.66.5)\n",
      "Note: you may need to restart the kernel to use updated packages.\n",
      "Requirement already satisfied: pandas in ./.pyvenv/lib/python3.11/site-packages (2.2.2)\n",
      "Requirement already satisfied: numpy>=1.23.2 in ./.pyvenv/lib/python3.11/site-packages (from pandas) (1.26.4)\n",
      "Requirement already satisfied: python-dateutil>=2.8.2 in ./.pyvenv/lib/python3.11/site-packages (from pandas) (2.9.0.post0)\n",
      "Requirement already satisfied: pytz>=2020.1 in ./.pyvenv/lib/python3.11/site-packages (from pandas) (2024.1)\n",
      "Requirement already satisfied: tzdata>=2022.7 in ./.pyvenv/lib/python3.11/site-packages (from pandas) (2024.1)\n",
      "Requirement already satisfied: six>=1.5 in ./.pyvenv/lib/python3.11/site-packages (from python-dateutil>=2.8.2->pandas) (1.16.0)\n",
      "Note: you may need to restart the kernel to use updated packages.\n",
      "Requirement already satisfied: spacy in ./.pyvenv/lib/python3.11/site-packages (3.7.6)\n",
      "Requirement already satisfied: spacy-legacy<3.1.0,>=3.0.11 in ./.pyvenv/lib/python3.11/site-packages (from spacy) (3.0.12)\n",
      "Requirement already satisfied: spacy-loggers<2.0.0,>=1.0.0 in ./.pyvenv/lib/python3.11/site-packages (from spacy) (1.0.5)\n",
      "Requirement already satisfied: murmurhash<1.1.0,>=0.28.0 in ./.pyvenv/lib/python3.11/site-packages (from spacy) (1.0.10)\n",
      "Requirement already satisfied: cymem<2.1.0,>=2.0.2 in ./.pyvenv/lib/python3.11/site-packages (from spacy) (2.0.8)\n",
      "Requirement already satisfied: preshed<3.1.0,>=3.0.2 in ./.pyvenv/lib/python3.11/site-packages (from spacy) (3.0.9)\n",
      "Requirement already satisfied: thinc<8.3.0,>=8.2.2 in ./.pyvenv/lib/python3.11/site-packages (from spacy) (8.2.5)\n",
      "Requirement already satisfied: wasabi<1.2.0,>=0.9.1 in ./.pyvenv/lib/python3.11/site-packages (from spacy) (1.1.3)\n",
      "Requirement already satisfied: srsly<3.0.0,>=2.4.3 in ./.pyvenv/lib/python3.11/site-packages (from spacy) (2.4.8)\n",
      "Requirement already satisfied: catalogue<2.1.0,>=2.0.6 in ./.pyvenv/lib/python3.11/site-packages (from spacy) (2.0.10)\n",
      "Requirement already satisfied: weasel<0.5.0,>=0.1.0 in ./.pyvenv/lib/python3.11/site-packages (from spacy) (0.4.1)\n",
      "Requirement already satisfied: typer<1.0.0,>=0.3.0 in ./.pyvenv/lib/python3.11/site-packages (from spacy) (0.12.5)\n",
      "Requirement already satisfied: tqdm<5.0.0,>=4.38.0 in ./.pyvenv/lib/python3.11/site-packages (from spacy) (4.66.5)\n",
      "Requirement already satisfied: requests<3.0.0,>=2.13.0 in ./.pyvenv/lib/python3.11/site-packages (from spacy) (2.32.3)\n",
      "Requirement already satisfied: pydantic!=1.8,!=1.8.1,<3.0.0,>=1.7.4 in ./.pyvenv/lib/python3.11/site-packages (from spacy) (2.9.1)\n",
      "Requirement already satisfied: jinja2 in ./.pyvenv/lib/python3.11/site-packages (from spacy) (3.1.4)\n",
      "Requirement already satisfied: setuptools in ./.pyvenv/lib/python3.11/site-packages (from spacy) (65.5.0)\n",
      "Requirement already satisfied: packaging>=20.0 in ./.pyvenv/lib/python3.11/site-packages (from spacy) (24.1)\n",
      "Requirement already satisfied: langcodes<4.0.0,>=3.2.0 in ./.pyvenv/lib/python3.11/site-packages (from spacy) (3.4.0)\n",
      "Requirement already satisfied: numpy>=1.19.0 in ./.pyvenv/lib/python3.11/site-packages (from spacy) (1.26.4)\n",
      "Requirement already satisfied: language-data>=1.2 in ./.pyvenv/lib/python3.11/site-packages (from langcodes<4.0.0,>=3.2.0->spacy) (1.2.0)\n",
      "Requirement already satisfied: annotated-types>=0.6.0 in ./.pyvenv/lib/python3.11/site-packages (from pydantic!=1.8,!=1.8.1,<3.0.0,>=1.7.4->spacy) (0.7.0)\n",
      "Requirement already satisfied: pydantic-core==2.23.3 in ./.pyvenv/lib/python3.11/site-packages (from pydantic!=1.8,!=1.8.1,<3.0.0,>=1.7.4->spacy) (2.23.3)\n",
      "Requirement already satisfied: typing-extensions>=4.6.1 in ./.pyvenv/lib/python3.11/site-packages (from pydantic!=1.8,!=1.8.1,<3.0.0,>=1.7.4->spacy) (4.12.2)\n",
      "Requirement already satisfied: charset-normalizer<4,>=2 in ./.pyvenv/lib/python3.11/site-packages (from requests<3.0.0,>=2.13.0->spacy) (3.3.2)\n",
      "Requirement already satisfied: idna<4,>=2.5 in ./.pyvenv/lib/python3.11/site-packages (from requests<3.0.0,>=2.13.0->spacy) (3.8)\n",
      "Requirement already satisfied: urllib3<3,>=1.21.1 in ./.pyvenv/lib/python3.11/site-packages (from requests<3.0.0,>=2.13.0->spacy) (2.2.2)\n",
      "Requirement already satisfied: certifi>=2017.4.17 in ./.pyvenv/lib/python3.11/site-packages (from requests<3.0.0,>=2.13.0->spacy) (2024.8.30)\n",
      "Requirement already satisfied: blis<0.8.0,>=0.7.8 in ./.pyvenv/lib/python3.11/site-packages (from thinc<8.3.0,>=8.2.2->spacy) (0.7.11)\n",
      "Requirement already satisfied: confection<1.0.0,>=0.0.1 in ./.pyvenv/lib/python3.11/site-packages (from thinc<8.3.0,>=8.2.2->spacy) (0.1.5)\n",
      "Requirement already satisfied: click>=8.0.0 in ./.pyvenv/lib/python3.11/site-packages (from typer<1.0.0,>=0.3.0->spacy) (8.1.7)\n",
      "Requirement already satisfied: shellingham>=1.3.0 in ./.pyvenv/lib/python3.11/site-packages (from typer<1.0.0,>=0.3.0->spacy) (1.5.4)\n",
      "Requirement already satisfied: rich>=10.11.0 in ./.pyvenv/lib/python3.11/site-packages (from typer<1.0.0,>=0.3.0->spacy) (13.8.0)\n",
      "Requirement already satisfied: cloudpathlib<1.0.0,>=0.7.0 in ./.pyvenv/lib/python3.11/site-packages (from weasel<0.5.0,>=0.1.0->spacy) (0.19.0)\n",
      "Requirement already satisfied: smart-open<8.0.0,>=5.2.1 in ./.pyvenv/lib/python3.11/site-packages (from weasel<0.5.0,>=0.1.0->spacy) (7.0.4)\n",
      "Requirement already satisfied: MarkupSafe>=2.0 in ./.pyvenv/lib/python3.11/site-packages (from jinja2->spacy) (2.1.5)\n",
      "Requirement already satisfied: marisa-trie>=0.7.7 in ./.pyvenv/lib/python3.11/site-packages (from language-data>=1.2->langcodes<4.0.0,>=3.2.0->spacy) (1.2.0)\n",
      "Requirement already satisfied: markdown-it-py>=2.2.0 in ./.pyvenv/lib/python3.11/site-packages (from rich>=10.11.0->typer<1.0.0,>=0.3.0->spacy) (3.0.0)\n",
      "Requirement already satisfied: pygments<3.0.0,>=2.13.0 in ./.pyvenv/lib/python3.11/site-packages (from rich>=10.11.0->typer<1.0.0,>=0.3.0->spacy) (2.18.0)\n",
      "Requirement already satisfied: wrapt in ./.pyvenv/lib/python3.11/site-packages (from smart-open<8.0.0,>=5.2.1->weasel<0.5.0,>=0.1.0->spacy) (1.16.0)\n",
      "Requirement already satisfied: mdurl~=0.1 in ./.pyvenv/lib/python3.11/site-packages (from markdown-it-py>=2.2.0->rich>=10.11.0->typer<1.0.0,>=0.3.0->spacy) (0.1.2)\n",
      "Note: you may need to restart the kernel to use updated packages.\n",
      "Requirement already satisfied: lxml in ./.pyvenv/lib/python3.11/site-packages (5.3.0)\n",
      "Note: you may need to restart the kernel to use updated packages.\n",
      "Collecting en-core-web-sm==3.7.1\n",
      "  Downloading https://github.com/explosion/spacy-models/releases/download/en_core_web_sm-3.7.1/en_core_web_sm-3.7.1-py3-none-any.whl (12.8 MB)\n",
      "\u001b[2K     \u001b[38;2;114;156;31m━━━━━━━━━━━━━━━━━━━━━━━━━━━━━━━━━━━━━━━━\u001b[0m \u001b[32m12.8/12.8 MB\u001b[0m \u001b[31m55.6 MB/s\u001b[0m eta \u001b[36m0:00:00\u001b[0m[36m0:00:01\u001b[0m\n",
      "\u001b[?25hRequirement already satisfied: spacy<3.8.0,>=3.7.2 in ./.pyvenv/lib/python3.11/site-packages (from en-core-web-sm==3.7.1) (3.7.6)\n",
      "Requirement already satisfied: spacy-legacy<3.1.0,>=3.0.11 in ./.pyvenv/lib/python3.11/site-packages (from spacy<3.8.0,>=3.7.2->en-core-web-sm==3.7.1) (3.0.12)\n",
      "Requirement already satisfied: spacy-loggers<2.0.0,>=1.0.0 in ./.pyvenv/lib/python3.11/site-packages (from spacy<3.8.0,>=3.7.2->en-core-web-sm==3.7.1) (1.0.5)\n",
      "Requirement already satisfied: murmurhash<1.1.0,>=0.28.0 in ./.pyvenv/lib/python3.11/site-packages (from spacy<3.8.0,>=3.7.2->en-core-web-sm==3.7.1) (1.0.10)\n",
      "Requirement already satisfied: cymem<2.1.0,>=2.0.2 in ./.pyvenv/lib/python3.11/site-packages (from spacy<3.8.0,>=3.7.2->en-core-web-sm==3.7.1) (2.0.8)\n",
      "Requirement already satisfied: preshed<3.1.0,>=3.0.2 in ./.pyvenv/lib/python3.11/site-packages (from spacy<3.8.0,>=3.7.2->en-core-web-sm==3.7.1) (3.0.9)\n",
      "Requirement already satisfied: thinc<8.3.0,>=8.2.2 in ./.pyvenv/lib/python3.11/site-packages (from spacy<3.8.0,>=3.7.2->en-core-web-sm==3.7.1) (8.2.5)\n",
      "Requirement already satisfied: wasabi<1.2.0,>=0.9.1 in ./.pyvenv/lib/python3.11/site-packages (from spacy<3.8.0,>=3.7.2->en-core-web-sm==3.7.1) (1.1.3)\n",
      "Requirement already satisfied: srsly<3.0.0,>=2.4.3 in ./.pyvenv/lib/python3.11/site-packages (from spacy<3.8.0,>=3.7.2->en-core-web-sm==3.7.1) (2.4.8)\n",
      "Requirement already satisfied: catalogue<2.1.0,>=2.0.6 in ./.pyvenv/lib/python3.11/site-packages (from spacy<3.8.0,>=3.7.2->en-core-web-sm==3.7.1) (2.0.10)\n",
      "Requirement already satisfied: weasel<0.5.0,>=0.1.0 in ./.pyvenv/lib/python3.11/site-packages (from spacy<3.8.0,>=3.7.2->en-core-web-sm==3.7.1) (0.4.1)\n",
      "Requirement already satisfied: typer<1.0.0,>=0.3.0 in ./.pyvenv/lib/python3.11/site-packages (from spacy<3.8.0,>=3.7.2->en-core-web-sm==3.7.1) (0.12.5)\n",
      "Requirement already satisfied: tqdm<5.0.0,>=4.38.0 in ./.pyvenv/lib/python3.11/site-packages (from spacy<3.8.0,>=3.7.2->en-core-web-sm==3.7.1) (4.66.5)\n",
      "Requirement already satisfied: requests<3.0.0,>=2.13.0 in ./.pyvenv/lib/python3.11/site-packages (from spacy<3.8.0,>=3.7.2->en-core-web-sm==3.7.1) (2.32.3)\n",
      "Requirement already satisfied: pydantic!=1.8,!=1.8.1,<3.0.0,>=1.7.4 in ./.pyvenv/lib/python3.11/site-packages (from spacy<3.8.0,>=3.7.2->en-core-web-sm==3.7.1) (2.9.1)\n",
      "Requirement already satisfied: jinja2 in ./.pyvenv/lib/python3.11/site-packages (from spacy<3.8.0,>=3.7.2->en-core-web-sm==3.7.1) (3.1.4)\n",
      "Requirement already satisfied: setuptools in ./.pyvenv/lib/python3.11/site-packages (from spacy<3.8.0,>=3.7.2->en-core-web-sm==3.7.1) (65.5.0)\n",
      "Requirement already satisfied: packaging>=20.0 in ./.pyvenv/lib/python3.11/site-packages (from spacy<3.8.0,>=3.7.2->en-core-web-sm==3.7.1) (24.1)\n",
      "Requirement already satisfied: langcodes<4.0.0,>=3.2.0 in ./.pyvenv/lib/python3.11/site-packages (from spacy<3.8.0,>=3.7.2->en-core-web-sm==3.7.1) (3.4.0)\n",
      "Requirement already satisfied: numpy>=1.19.0 in ./.pyvenv/lib/python3.11/site-packages (from spacy<3.8.0,>=3.7.2->en-core-web-sm==3.7.1) (1.26.4)\n",
      "Requirement already satisfied: language-data>=1.2 in ./.pyvenv/lib/python3.11/site-packages (from langcodes<4.0.0,>=3.2.0->spacy<3.8.0,>=3.7.2->en-core-web-sm==3.7.1) (1.2.0)\n",
      "Requirement already satisfied: annotated-types>=0.6.0 in ./.pyvenv/lib/python3.11/site-packages (from pydantic!=1.8,!=1.8.1,<3.0.0,>=1.7.4->spacy<3.8.0,>=3.7.2->en-core-web-sm==3.7.1) (0.7.0)\n",
      "Requirement already satisfied: pydantic-core==2.23.3 in ./.pyvenv/lib/python3.11/site-packages (from pydantic!=1.8,!=1.8.1,<3.0.0,>=1.7.4->spacy<3.8.0,>=3.7.2->en-core-web-sm==3.7.1) (2.23.3)\n",
      "Requirement already satisfied: typing-extensions>=4.6.1 in ./.pyvenv/lib/python3.11/site-packages (from pydantic!=1.8,!=1.8.1,<3.0.0,>=1.7.4->spacy<3.8.0,>=3.7.2->en-core-web-sm==3.7.1) (4.12.2)\n",
      "Requirement already satisfied: charset-normalizer<4,>=2 in ./.pyvenv/lib/python3.11/site-packages (from requests<3.0.0,>=2.13.0->spacy<3.8.0,>=3.7.2->en-core-web-sm==3.7.1) (3.3.2)\n",
      "Requirement already satisfied: idna<4,>=2.5 in ./.pyvenv/lib/python3.11/site-packages (from requests<3.0.0,>=2.13.0->spacy<3.8.0,>=3.7.2->en-core-web-sm==3.7.1) (3.8)\n",
      "Requirement already satisfied: urllib3<3,>=1.21.1 in ./.pyvenv/lib/python3.11/site-packages (from requests<3.0.0,>=2.13.0->spacy<3.8.0,>=3.7.2->en-core-web-sm==3.7.1) (2.2.2)\n",
      "Requirement already satisfied: certifi>=2017.4.17 in ./.pyvenv/lib/python3.11/site-packages (from requests<3.0.0,>=2.13.0->spacy<3.8.0,>=3.7.2->en-core-web-sm==3.7.1) (2024.8.30)\n",
      "Requirement already satisfied: blis<0.8.0,>=0.7.8 in ./.pyvenv/lib/python3.11/site-packages (from thinc<8.3.0,>=8.2.2->spacy<3.8.0,>=3.7.2->en-core-web-sm==3.7.1) (0.7.11)\n",
      "Requirement already satisfied: confection<1.0.0,>=0.0.1 in ./.pyvenv/lib/python3.11/site-packages (from thinc<8.3.0,>=8.2.2->spacy<3.8.0,>=3.7.2->en-core-web-sm==3.7.1) (0.1.5)\n",
      "Requirement already satisfied: click>=8.0.0 in ./.pyvenv/lib/python3.11/site-packages (from typer<1.0.0,>=0.3.0->spacy<3.8.0,>=3.7.2->en-core-web-sm==3.7.1) (8.1.7)\n",
      "Requirement already satisfied: shellingham>=1.3.0 in ./.pyvenv/lib/python3.11/site-packages (from typer<1.0.0,>=0.3.0->spacy<3.8.0,>=3.7.2->en-core-web-sm==3.7.1) (1.5.4)\n",
      "Requirement already satisfied: rich>=10.11.0 in ./.pyvenv/lib/python3.11/site-packages (from typer<1.0.0,>=0.3.0->spacy<3.8.0,>=3.7.2->en-core-web-sm==3.7.1) (13.8.0)\n",
      "Requirement already satisfied: cloudpathlib<1.0.0,>=0.7.0 in ./.pyvenv/lib/python3.11/site-packages (from weasel<0.5.0,>=0.1.0->spacy<3.8.0,>=3.7.2->en-core-web-sm==3.7.1) (0.19.0)\n",
      "Requirement already satisfied: smart-open<8.0.0,>=5.2.1 in ./.pyvenv/lib/python3.11/site-packages (from weasel<0.5.0,>=0.1.0->spacy<3.8.0,>=3.7.2->en-core-web-sm==3.7.1) (7.0.4)\n",
      "Requirement already satisfied: MarkupSafe>=2.0 in ./.pyvenv/lib/python3.11/site-packages (from jinja2->spacy<3.8.0,>=3.7.2->en-core-web-sm==3.7.1) (2.1.5)\n",
      "Requirement already satisfied: marisa-trie>=0.7.7 in ./.pyvenv/lib/python3.11/site-packages (from language-data>=1.2->langcodes<4.0.0,>=3.2.0->spacy<3.8.0,>=3.7.2->en-core-web-sm==3.7.1) (1.2.0)\n",
      "Requirement already satisfied: markdown-it-py>=2.2.0 in ./.pyvenv/lib/python3.11/site-packages (from rich>=10.11.0->typer<1.0.0,>=0.3.0->spacy<3.8.0,>=3.7.2->en-core-web-sm==3.7.1) (3.0.0)\n",
      "Requirement already satisfied: pygments<3.0.0,>=2.13.0 in ./.pyvenv/lib/python3.11/site-packages (from rich>=10.11.0->typer<1.0.0,>=0.3.0->spacy<3.8.0,>=3.7.2->en-core-web-sm==3.7.1) (2.18.0)\n",
      "Requirement already satisfied: wrapt in ./.pyvenv/lib/python3.11/site-packages (from smart-open<8.0.0,>=5.2.1->weasel<0.5.0,>=0.1.0->spacy<3.8.0,>=3.7.2->en-core-web-sm==3.7.1) (1.16.0)\n",
      "Requirement already satisfied: mdurl~=0.1 in ./.pyvenv/lib/python3.11/site-packages (from markdown-it-py>=2.2.0->rich>=10.11.0->typer<1.0.0,>=0.3.0->spacy<3.8.0,>=3.7.2->en-core-web-sm==3.7.1) (0.1.2)\n",
      "\u001b[38;5;2m✔ Download and installation successful\u001b[0m\n",
      "You can now load the package via spacy.load('en_core_web_sm')\n"
     ]
    }
   ],
   "source": [
    "%pip install beautifulsoup4\n",
    "%pip install langdetect\n",
    "%pip install numpy\n",
    "%pip install nltk\n",
    "%pip install pandas\n",
    "%pip install spacy\n",
    "%pip install lxml\n",
    "!.pyvenv/bin/python -m spacy download en_core_web_sm"
   ]
  },
  {
   "cell_type": "code",
   "execution_count": 2,
   "id": "external-sucking",
   "metadata": {
    "_cell_guid": "b1076dfc-b9ad-4769-8c92-a6c4dae69d19",
    "_uuid": "8f2839f25d086af736a60e9eeb907d3b93b6e0e5",
    "execution": {
     "iopub.execute_input": "2021-06-25T09:35:01.865948Z",
     "iopub.status.busy": "2021-06-25T09:35:01.865430Z",
     "iopub.status.idle": "2021-06-25T09:35:05.440326Z",
     "shell.execute_reply": "2021-06-25T09:35:05.439691Z",
     "shell.execute_reply.started": "2021-06-25T08:15:32.537273Z"
    },
    "papermill": {
     "duration": 3.627682,
     "end_time": "2021-06-25T09:35:05.440444",
     "exception": false,
     "start_time": "2021-06-25T09:35:01.812762",
     "status": "completed"
    },
    "tags": []
   },
   "outputs": [],
   "source": [
    "# Import Python libraries\n",
    "import os\n",
    "import time\n",
    "import numpy as np\n",
    "import pandas as pd\n",
    "import re\n",
    "from bs4 import BeautifulSoup\n",
    "from langdetect import detect\n",
    "import nltk\n",
    "from nltk.corpus import stopwords\n",
    "from nltk.stem.wordnet import WordNetLemmatizer\n",
    "from nltk.stem.snowball import EnglishStemmer\n",
    "import spacy\n",
    "from spacy import displacy"
   ]
  },
  {
   "cell_type": "code",
   "execution_count": 3,
   "id": "suffering-seattle",
   "metadata": {
    "execution": {
     "iopub.execute_input": "2021-06-25T09:35:05.643017Z",
     "iopub.status.busy": "2021-06-25T09:35:05.642533Z",
     "iopub.status.idle": "2021-06-25T09:35:06.485086Z",
     "shell.execute_reply": "2021-06-25T09:35:06.484370Z",
     "shell.execute_reply.started": "2021-06-25T08:15:35.247889Z"
    },
    "papermill": {
     "duration": 0.892971,
     "end_time": "2021-06-25T09:35:06.485257",
     "exception": false,
     "start_time": "2021-06-25T09:35:05.592286",
     "status": "completed"
    },
    "tags": []
   },
   "outputs": [
    {
     "name": "stderr",
     "output_type": "stream",
     "text": [
      "[nltk_data] Downloading collection 'popular'\n",
      "[nltk_data]    | \n",
      "[nltk_data]    | Downloading package cmudict to\n",
      "[nltk_data]    |     /home/clement/nltk_data...\n",
      "[nltk_data]    |   Package cmudict is already up-to-date!\n",
      "[nltk_data]    | Downloading package gazetteers to\n",
      "[nltk_data]    |     /home/clement/nltk_data...\n",
      "[nltk_data]    |   Package gazetteers is already up-to-date!\n",
      "[nltk_data]    | Downloading package genesis to\n",
      "[nltk_data]    |     /home/clement/nltk_data...\n",
      "[nltk_data]    |   Package genesis is already up-to-date!\n",
      "[nltk_data]    | Downloading package gutenberg to\n",
      "[nltk_data]    |     /home/clement/nltk_data...\n",
      "[nltk_data]    |   Package gutenberg is already up-to-date!\n",
      "[nltk_data]    | Downloading package inaugural to\n",
      "[nltk_data]    |     /home/clement/nltk_data...\n",
      "[nltk_data]    |   Package inaugural is already up-to-date!\n",
      "[nltk_data]    | Downloading package movie_reviews to\n",
      "[nltk_data]    |     /home/clement/nltk_data...\n",
      "[nltk_data]    |   Package movie_reviews is already up-to-date!\n",
      "[nltk_data]    | Downloading package names to\n",
      "[nltk_data]    |     /home/clement/nltk_data...\n",
      "[nltk_data]    |   Package names is already up-to-date!\n",
      "[nltk_data]    | Downloading package shakespeare to\n",
      "[nltk_data]    |     /home/clement/nltk_data...\n",
      "[nltk_data]    |   Package shakespeare is already up-to-date!\n",
      "[nltk_data]    | Downloading package stopwords to\n",
      "[nltk_data]    |     /home/clement/nltk_data...\n",
      "[nltk_data]    |   Package stopwords is already up-to-date!\n",
      "[nltk_data]    | Downloading package treebank to\n",
      "[nltk_data]    |     /home/clement/nltk_data...\n",
      "[nltk_data]    |   Package treebank is already up-to-date!\n",
      "[nltk_data]    | Downloading package twitter_samples to\n",
      "[nltk_data]    |     /home/clement/nltk_data...\n",
      "[nltk_data]    |   Package twitter_samples is already up-to-date!\n",
      "[nltk_data]    | Downloading package omw to /home/clement/nltk_data...\n",
      "[nltk_data]    |   Package omw is already up-to-date!\n",
      "[nltk_data]    | Downloading package omw-1.4 to\n",
      "[nltk_data]    |     /home/clement/nltk_data...\n",
      "[nltk_data]    |   Package omw-1.4 is already up-to-date!\n",
      "[nltk_data]    | Downloading package wordnet to\n",
      "[nltk_data]    |     /home/clement/nltk_data...\n",
      "[nltk_data]    |   Package wordnet is already up-to-date!\n",
      "[nltk_data]    | Downloading package wordnet2021 to\n",
      "[nltk_data]    |     /home/clement/nltk_data...\n",
      "[nltk_data]    |   Package wordnet2021 is already up-to-date!\n",
      "[nltk_data]    | Downloading package wordnet31 to\n",
      "[nltk_data]    |     /home/clement/nltk_data...\n",
      "[nltk_data]    |   Package wordnet31 is already up-to-date!\n",
      "[nltk_data]    | Downloading package wordnet_ic to\n",
      "[nltk_data]    |     /home/clement/nltk_data...\n",
      "[nltk_data]    |   Package wordnet_ic is already up-to-date!\n",
      "[nltk_data]    | Downloading package words to\n",
      "[nltk_data]    |     /home/clement/nltk_data...\n",
      "[nltk_data]    |   Package words is already up-to-date!\n",
      "[nltk_data]    | Downloading package maxent_ne_chunker to\n",
      "[nltk_data]    |     /home/clement/nltk_data...\n",
      "[nltk_data]    |   Package maxent_ne_chunker is already up-to-date!\n",
      "[nltk_data]    | Downloading package punkt to\n",
      "[nltk_data]    |     /home/clement/nltk_data...\n",
      "[nltk_data]    |   Package punkt is already up-to-date!\n",
      "[nltk_data]    | Downloading package snowball_data to\n",
      "[nltk_data]    |     /home/clement/nltk_data...\n",
      "[nltk_data]    |   Package snowball_data is already up-to-date!\n",
      "[nltk_data]    | Downloading package averaged_perceptron_tagger to\n",
      "[nltk_data]    |     /home/clement/nltk_data...\n",
      "[nltk_data]    |   Package averaged_perceptron_tagger is already up-\n",
      "[nltk_data]    |       to-date!\n",
      "[nltk_data]    | \n",
      "[nltk_data]  Done downloading collection popular\n"
     ]
    },
    {
     "data": {
      "text/plain": [
       "True"
      ]
     },
     "execution_count": 3,
     "metadata": {},
     "output_type": "execute_result"
    }
   ],
   "source": [
    "nltk.download('popular')"
   ]
  },
  {
   "cell_type": "code",
   "execution_count": 4,
   "id": "soviet-cemetery",
   "metadata": {
    "execution": {
     "iopub.execute_input": "2021-06-25T09:35:06.793524Z",
     "iopub.status.busy": "2021-06-25T09:35:06.792826Z",
     "iopub.status.idle": "2021-06-25T09:35:13.294259Z",
     "shell.execute_reply": "2021-06-25T09:35:13.293681Z",
     "shell.execute_reply.started": "2021-06-25T08:15:35.990817Z"
    },
    "papermill": {
     "duration": 6.584534,
     "end_time": "2021-06-25T09:35:13.294422",
     "exception": false,
     "start_time": "2021-06-25T09:35:06.709888",
     "status": "completed"
    },
    "tags": []
   },
   "outputs": [
    {
     "data": {
      "text/html": [
       "<div>\n",
       "<style scoped>\n",
       "    .dataframe tbody tr th:only-of-type {\n",
       "        vertical-align: middle;\n",
       "    }\n",
       "\n",
       "    .dataframe tbody tr th {\n",
       "        vertical-align: top;\n",
       "    }\n",
       "\n",
       "    .dataframe thead th {\n",
       "        text-align: right;\n",
       "    }\n",
       "</style>\n",
       "<table border=\"1\" class=\"dataframe\">\n",
       "  <thead>\n",
       "    <tr style=\"text-align: right;\">\n",
       "      <th></th>\n",
       "      <th>Title</th>\n",
       "      <th>Body</th>\n",
       "      <th>Tags</th>\n",
       "      <th>Score</th>\n",
       "      <th>ViewCount</th>\n",
       "      <th>FavoriteCount</th>\n",
       "      <th>CreationDate</th>\n",
       "      <th>AnswerCount</th>\n",
       "    </tr>\n",
       "    <tr>\n",
       "      <th>Id</th>\n",
       "      <th></th>\n",
       "      <th></th>\n",
       "      <th></th>\n",
       "      <th></th>\n",
       "      <th></th>\n",
       "      <th></th>\n",
       "      <th></th>\n",
       "      <th></th>\n",
       "    </tr>\n",
       "  </thead>\n",
       "  <tbody>\n",
       "    <tr>\n",
       "      <th>4</th>\n",
       "      <td>How to convert Decimal to Double in C#?</td>\n",
       "      <td>&lt;p&gt;I want to assign the decimal variable &amp;quot...</td>\n",
       "      <td>&lt;c#&gt;&lt;floating-point&gt;&lt;type-conversion&gt;&lt;double&gt;&lt;...</td>\n",
       "      <td>810</td>\n",
       "      <td>78382</td>\n",
       "      <td>NaN</td>\n",
       "      <td>2008-07-31 21:42:52</td>\n",
       "      <td>13</td>\n",
       "    </tr>\n",
       "    <tr>\n",
       "      <th>11</th>\n",
       "      <td>Calculate relative time in C#</td>\n",
       "      <td>&lt;p&gt;Given a specific &lt;code&gt;DateTime&lt;/code&gt; valu...</td>\n",
       "      <td>&lt;c#&gt;&lt;datetime&gt;&lt;time&gt;&lt;datediff&gt;&lt;relative-time-s...</td>\n",
       "      <td>1656</td>\n",
       "      <td>203898</td>\n",
       "      <td>NaN</td>\n",
       "      <td>2008-07-31 23:55:37</td>\n",
       "      <td>42</td>\n",
       "    </tr>\n",
       "    <tr>\n",
       "      <th>13</th>\n",
       "      <td>Determine a user's timezone</td>\n",
       "      <td>&lt;p&gt;Is there a standard way for a web server to...</td>\n",
       "      <td>&lt;html&gt;&lt;browser&gt;&lt;timezone&gt;&lt;user-agent&gt;&lt;timezone...</td>\n",
       "      <td>723</td>\n",
       "      <td>312544</td>\n",
       "      <td>NaN</td>\n",
       "      <td>2008-08-01 00:42:38</td>\n",
       "      <td>27</td>\n",
       "    </tr>\n",
       "  </tbody>\n",
       "</table>\n",
       "</div>"
      ],
      "text/plain": [
       "                                      Title  \\\n",
       "Id                                            \n",
       "4   How to convert Decimal to Double in C#?   \n",
       "11            Calculate relative time in C#   \n",
       "13              Determine a user's timezone   \n",
       "\n",
       "                                                 Body  \\\n",
       "Id                                                      \n",
       "4   <p>I want to assign the decimal variable &quot...   \n",
       "11  <p>Given a specific <code>DateTime</code> valu...   \n",
       "13  <p>Is there a standard way for a web server to...   \n",
       "\n",
       "                                                 Tags  Score  ViewCount  \\\n",
       "Id                                                                        \n",
       "4   <c#><floating-point><type-conversion><double><...    810      78382   \n",
       "11  <c#><datetime><time><datediff><relative-time-s...   1656     203898   \n",
       "13  <html><browser><timezone><user-agent><timezone...    723     312544   \n",
       "\n",
       "    FavoriteCount        CreationDate  AnswerCount  \n",
       "Id                                                  \n",
       "4             NaN 2008-07-31 21:42:52           13  \n",
       "11            NaN 2008-07-31 23:55:37           42  \n",
       "13            NaN 2008-08-01 00:42:38           27  "
      ]
     },
     "execution_count": 4,
     "metadata": {},
     "output_type": "execute_result"
    }
   ],
   "source": [
    "data = pd.read_csv('data/QueryResults.csv')\n",
    "\n",
    "data.set_index('Id', inplace=True)\n",
    "data['CreationDate'] = pd.to_datetime(data['CreationDate'])\n",
    "#data['ClosedDate'] = pd.to_datetime(data['ClosedDate'])\n",
    "\n",
    "\n",
    "data.head(3)"
   ]
  },
  {
   "cell_type": "code",
   "execution_count": 5,
   "id": "forbidden-fleece",
   "metadata": {
    "execution": {
     "iopub.execute_input": "2021-06-25T09:35:13.496741Z",
     "iopub.status.busy": "2021-06-25T09:35:13.496086Z",
     "iopub.status.idle": "2021-06-25T09:35:13.515868Z",
     "shell.execute_reply": "2021-06-25T09:35:13.516495Z",
     "shell.execute_reply.started": "2021-06-25T08:15:41.172206Z"
    },
    "papermill": {
     "duration": 0.147033,
     "end_time": "2021-06-25T09:35:13.516672",
     "exception": false,
     "start_time": "2021-06-25T09:35:13.369639",
     "status": "completed"
    },
    "tags": []
   },
   "outputs": [
    {
     "name": "stdout",
     "output_type": "stream",
     "text": [
      "<class 'pandas.core.frame.DataFrame'>\n",
      "Index: 50000 entries, 4 to 16810676\n",
      "Data columns (total 8 columns):\n",
      " #   Column         Non-Null Count  Dtype         \n",
      "---  ------         --------------  -----         \n",
      " 0   Title          50000 non-null  object        \n",
      " 1   Body           50000 non-null  object        \n",
      " 2   Tags           50000 non-null  object        \n",
      " 3   Score          50000 non-null  int64         \n",
      " 4   ViewCount      50000 non-null  int64         \n",
      " 5   FavoriteCount  0 non-null      float64       \n",
      " 6   CreationDate   50000 non-null  datetime64[ns]\n",
      " 7   AnswerCount    50000 non-null  int64         \n",
      "dtypes: datetime64[ns](1), float64(1), int64(3), object(3)\n",
      "memory usage: 3.4+ MB\n"
     ]
    }
   ],
   "source": [
    "# Print full dataset infos\n",
    "data.info()"
   ]
  },
  {
   "cell_type": "code",
   "execution_count": 6,
   "id": "educated-briefs",
   "metadata": {
    "execution": {
     "iopub.execute_input": "2021-06-25T09:35:13.672376Z",
     "iopub.status.busy": "2021-06-25T09:35:13.671578Z",
     "iopub.status.idle": "2021-06-25T09:35:14.408655Z",
     "shell.execute_reply": "2021-06-25T09:35:14.408039Z",
     "shell.execute_reply.started": "2021-06-25T08:15:41.240845Z"
    },
    "papermill": {
     "duration": 0.815967,
     "end_time": "2021-06-25T09:35:14.408809",
     "exception": false,
     "start_time": "2021-06-25T09:35:13.592842",
     "status": "completed"
    },
    "tags": []
   },
   "outputs": [
    {
     "data": {
      "text/html": [
       "<div>\n",
       "<style scoped>\n",
       "    .dataframe tbody tr th:only-of-type {\n",
       "        vertical-align: middle;\n",
       "    }\n",
       "\n",
       "    .dataframe tbody tr th {\n",
       "        vertical-align: top;\n",
       "    }\n",
       "\n",
       "    .dataframe thead th {\n",
       "        text-align: right;\n",
       "    }\n",
       "</style>\n",
       "<table border=\"1\" class=\"dataframe\">\n",
       "  <thead>\n",
       "    <tr style=\"text-align: right;\">\n",
       "      <th></th>\n",
       "      <th>Score</th>\n",
       "      <th>ViewCount</th>\n",
       "      <th>FavoriteCount</th>\n",
       "      <th>CreationDate</th>\n",
       "      <th>AnswerCount</th>\n",
       "    </tr>\n",
       "  </thead>\n",
       "  <tbody>\n",
       "    <tr>\n",
       "      <th>count</th>\n",
       "      <td>50000.000000</td>\n",
       "      <td>5.000000e+04</td>\n",
       "      <td>0.0</td>\n",
       "      <td>50000</td>\n",
       "      <td>50000.000000</td>\n",
       "    </tr>\n",
       "    <tr>\n",
       "      <th>mean</th>\n",
       "      <td>12.068220</td>\n",
       "      <td>1.106723e+04</td>\n",
       "      <td>NaN</td>\n",
       "      <td>2014-11-24 13:05:39.635759616</td>\n",
       "      <td>2.202380</td>\n",
       "    </tr>\n",
       "    <tr>\n",
       "      <th>min</th>\n",
       "      <td>-8.000000</td>\n",
       "      <td>1.600000e+01</td>\n",
       "      <td>NaN</td>\n",
       "      <td>2008-07-31 21:42:52</td>\n",
       "      <td>1.000000</td>\n",
       "    </tr>\n",
       "    <tr>\n",
       "      <th>25%</th>\n",
       "      <td>0.000000</td>\n",
       "      <td>3.680000e+02</td>\n",
       "      <td>NaN</td>\n",
       "      <td>2011-11-19 20:09:04.750000128</td>\n",
       "      <td>1.000000</td>\n",
       "    </tr>\n",
       "    <tr>\n",
       "      <th>50%</th>\n",
       "      <td>1.000000</td>\n",
       "      <td>1.084000e+03</td>\n",
       "      <td>NaN</td>\n",
       "      <td>2014-09-24 14:06:40</td>\n",
       "      <td>1.000000</td>\n",
       "    </tr>\n",
       "    <tr>\n",
       "      <th>75%</th>\n",
       "      <td>3.000000</td>\n",
       "      <td>3.119000e+03</td>\n",
       "      <td>NaN</td>\n",
       "      <td>2017-08-19 09:05:04</td>\n",
       "      <td>2.000000</td>\n",
       "    </tr>\n",
       "    <tr>\n",
       "      <th>max</th>\n",
       "      <td>9463.000000</td>\n",
       "      <td>4.865464e+06</td>\n",
       "      <td>NaN</td>\n",
       "      <td>2021-08-18 22:31:13</td>\n",
       "      <td>91.000000</td>\n",
       "    </tr>\n",
       "    <tr>\n",
       "      <th>std</th>\n",
       "      <td>151.132812</td>\n",
       "      <td>9.946791e+04</td>\n",
       "      <td>NaN</td>\n",
       "      <td>NaN</td>\n",
       "      <td>2.920882</td>\n",
       "    </tr>\n",
       "  </tbody>\n",
       "</table>\n",
       "</div>"
      ],
      "text/plain": [
       "              Score     ViewCount  FavoriteCount  \\\n",
       "count  50000.000000  5.000000e+04            0.0   \n",
       "mean      12.068220  1.106723e+04            NaN   \n",
       "min       -8.000000  1.600000e+01            NaN   \n",
       "25%        0.000000  3.680000e+02            NaN   \n",
       "50%        1.000000  1.084000e+03            NaN   \n",
       "75%        3.000000  3.119000e+03            NaN   \n",
       "max     9463.000000  4.865464e+06            NaN   \n",
       "std      151.132812  9.946791e+04            NaN   \n",
       "\n",
       "                        CreationDate   AnswerCount  \n",
       "count                          50000  50000.000000  \n",
       "mean   2014-11-24 13:05:39.635759616      2.202380  \n",
       "min              2008-07-31 21:42:52      1.000000  \n",
       "25%    2011-11-19 20:09:04.750000128      1.000000  \n",
       "50%              2014-09-24 14:06:40      1.000000  \n",
       "75%              2017-08-19 09:05:04      2.000000  \n",
       "max              2021-08-18 22:31:13     91.000000  \n",
       "std                              NaN      2.920882  "
      ]
     },
     "execution_count": 6,
     "metadata": {},
     "output_type": "execute_result"
    }
   ],
   "source": [
    "# Describe data\n",
    "data.describe()"
   ]
  },
  {
   "cell_type": "code",
   "execution_count": 7,
   "id": "03a63fd0",
   "metadata": {},
   "outputs": [],
   "source": [
    "#data = data.head(100)"
   ]
  },
  {
   "cell_type": "code",
   "execution_count": 8,
   "id": "collectible-automation",
   "metadata": {
    "execution": {
     "iopub.execute_input": "2021-06-25T09:35:19.614698Z",
     "iopub.status.busy": "2021-06-25T09:35:19.614017Z",
     "iopub.status.idle": "2021-06-25T09:35:19.889658Z",
     "shell.execute_reply": "2021-06-25T09:35:19.889267Z",
     "shell.execute_reply.started": "2021-06-25T08:15:44.718615Z"
    },
    "papermill": {
     "duration": 0.338689,
     "end_time": "2021-06-25T09:35:19.889770",
     "exception": false,
     "start_time": "2021-06-25T09:35:19.551081",
     "status": "completed"
    },
    "tags": []
   },
   "outputs": [
    {
     "data": {
      "text/plain": [
       "Id\n",
       "4     <c#><floating-point><type-conversion><double><...\n",
       "11    <c#><datetime><time><datediff><relative-time-s...\n",
       "13    <html><browser><timezone><user-agent><timezone...\n",
       "19    <performance><algorithm><language-agnostic><un...\n",
       "25                    <c++><c><sockets><mainframe><zos>\n",
       "Name: Tags, dtype: object"
      ]
     },
     "metadata": {},
     "output_type": "display_data"
    }
   ],
   "source": [
    "display(data['Tags'].head(5))\n",
    "data['Tags'] = (data['Tags'].str.lstrip('<').str.rstrip('>').str.split('><')).str.join(',')\n"
   ]
  },
  {
   "cell_type": "code",
   "execution_count": 9,
   "id": "a436fa3d",
   "metadata": {},
   "outputs": [
    {
     "data": {
      "text/plain": [
       "Id\n",
       "4     I want to assign the decimal variable \"trans\" ...\n",
       "11    Given a specific  value, how do I display rela...\n",
       "13    Is there a standard way for a web server to be...\n",
       "Name: Body, dtype: object"
      ]
     },
     "metadata": {},
     "output_type": "display_data"
    },
    {
     "data": {
      "text/plain": [
       "Id\n",
       "4                                                            \n",
       "11             DateTime\\n2 hours ago\\n3 days ago\\na month ago\n",
       "13                                                 user-agent\n",
       "19          #define\\nM_PI\\n4 * atan(1)\\natan(1)\\n-fno-buil...\n",
       "25          sys/socket.h\\nAF_INET\\n#ifdef\\n_OE_SOCKETS\\n#i...\n",
       "7998733                                                      \n",
       "25992632                                                     \n",
       "16493577    array('select' =&gt; array('label' =&gt; \"elem...\n",
       "7998773                                                      \n",
       "88          QueryPerformanceCounter\\nQueryPerformanceFrequ...\n",
       "25992619                                                     \n",
       "109                                                          \n",
       "25992683                                                     \n",
       "129                                           SQL Server 2005\n",
       "25992706                                                     \n",
       "7998816     emb\\nimport emb\\nemb\\n__import__()\\n__import__...\n",
       "146                                                          \n",
       "7998818                                                      \n",
       "7998843                                                      \n",
       "25992709    BufferedImage\\ngraphics2D\\nBufferedImage\\nBuff...\n",
       "361                                                          \n",
       "382                                                          \n",
       "16493645                                                     \n",
       "7998963                                    initWithContentURL\n",
       "549                                                          \n",
       "7998992                                                      \n",
       "588                                                          \n",
       "7999001                                                      \n",
       "594                                                          \n",
       "7999032                                                      \n",
       "35563758                                                     \n",
       "16493648                                                     \n",
       "7999054                [NSBundle bundleForClass:[self class]]\n",
       "696                               PHP5/Apache 1.3/OpenBSD 4.1\n",
       "16493652                  constexpr\\nclass\\nstatic\\nconstexpr\n",
       "45684747    ggplot2\\nfacet_grid()\\nfacet_wrap()\\nfacet_gri...\n",
       "45684749    server.log\\nserver.out\\natg.nucleus.logging.Ap...\n",
       "45684753                           &lt;%=render \"reload\"%&gt;\n",
       "7999087                                                      \n",
       "7999093                                                      \n",
       "45684714    electron-forge\\nname\\npackage.json\\nstatus-cli...\n",
       "35563817                                                     \n",
       "35563830                                                     \n",
       "59083136                                                     \n",
       "7999117                                                      \n",
       "35563856                         gpupdate /force\\nPGDB.Open()\n",
       "855                                                          \n",
       "7999135                                                      \n",
       "16493690                                                     \n",
       "888                                                          \n",
       "Name: Code, dtype: object"
      ]
     },
     "execution_count": 9,
     "metadata": {},
     "output_type": "execute_result"
    }
   ],
   "source": [
    "data['Code'] = data['Body'].apply(lambda x: '\\n'.join(re.findall(r'<code>(.*?)</code>', x)))\n",
    "data['Body'] = data['Body'].apply(lambda x: re.sub(r'<code>(.*?)</code>', '', x))\n",
    "data['Body'] = data['Body'].apply(lambda x: BeautifulSoup(x, 'lxml').get_text())\n",
    "\n",
    "display(data['Body'].head(3))\n",
    "\n",
    "data['Code'].head(50)\n"
   ]
  },
  {
   "cell_type": "code",
   "execution_count": 10,
   "id": "741e973e",
   "metadata": {},
   "outputs": [],
   "source": [
    "nlp = spacy.load('en_core_web_sm')\n",
    "stop_words = stopwords.words(\"english\")\n",
    "wn = WordNetLemmatizer()"
   ]
  },
  {
   "cell_type": "code",
   "execution_count": 11,
   "id": "handed-receptor",
   "metadata": {
    "execution": {
     "iopub.execute_input": "2021-06-25T09:45:58.036090Z",
     "iopub.status.busy": "2021-06-25T09:45:58.035396Z",
     "iopub.status.idle": "2021-06-25T09:45:58.042451Z",
     "shell.execute_reply": "2021-06-25T09:45:58.042006Z",
     "shell.execute_reply.started": "2021-06-25T08:22:46.125336Z"
    },
    "papermill": {
     "duration": 0.0789,
     "end_time": "2021-06-25T09:45:58.042573",
     "exception": false,
     "start_time": "2021-06-25T09:45:57.963673",
     "status": "completed"
    },
    "tags": []
   },
   "outputs": [],
   "source": [
    "def filter_and_lemmatize_tokens(doc):\n",
    " # Filtrer les tokens pour ne garder que les noms et les noms propres\n",
    "    filtered = filter(lambda token: token.pos_ in [\"NOUN\", \"PROPN\"], doc)\n",
    "    \n",
    "    # Lemmatiser les tokens filtrés\n",
    "    lemmatized = list(map(lambda token: token.lemma_, filtered))\n",
    "\n",
    "    lemmatized = list(set(lemmatized))\n",
    "    \n",
    "    # Normaliser les tokens\n",
    "    normalized_text = ' '.join(lemmatized).lower()\n",
    "    normalized_text = normalized_text.encode(\"ascii\", \"ignore\").decode()\n",
    "    normalized_text = re.sub(\"\\'\\w+\", '', normalized_text)\n",
    "    normalized_text = re.sub('[^\\\\w\\\\s#]', '', normalized_text)\n",
    "    normalized_text = re.sub(r'http*\\S+', '', normalized_text)\n",
    "    normalized_text = re.sub(r'\\w*\\d+\\w*', '', normalized_text)\n",
    "    normalized_text = re.sub('\\s+', ' ', normalized_text)\n",
    "    \n",
    "    return normalized_text"
   ]
  },
  {
   "cell_type": "code",
   "execution_count": 12,
   "id": "whole-insider",
   "metadata": {
    "execution": {
     "iopub.execute_input": "2021-06-25T09:45:58.189009Z",
     "iopub.status.busy": "2021-06-25T09:45:58.188486Z",
     "iopub.status.idle": "2021-06-25T10:16:30.678741Z",
     "shell.execute_reply": "2021-06-25T10:16:30.678105Z"
    },
    "papermill": {
     "duration": 1832.566649,
     "end_time": "2021-06-25T10:16:30.678891",
     "exception": false,
     "start_time": "2021-06-25T09:45:58.112242",
     "status": "completed"
    },
    "tags": []
   },
   "outputs": [],
   "source": [
    "data = data[data['Body'].apply(lambda x: detect(x[0:100])) == 'en']\n",
    "\n",
    "\n",
    "data['Body'] = data['Body'].apply(lambda x: filter_and_lemmatize_tokens(nlp(x)))\n",
    "data['Title'] = data['Title'].apply(lambda x: filter_and_lemmatize_tokens(nlp(x)))\n"
   ]
  },
  {
   "cell_type": "code",
   "execution_count": 13,
   "id": "engaging-ranking",
   "metadata": {
    "execution": {
     "iopub.execute_input": "2021-06-25T10:33:07.273429Z",
     "iopub.status.busy": "2021-06-25T10:33:07.271836Z",
     "iopub.status.idle": "2021-06-25T10:33:08.749146Z",
     "shell.execute_reply": "2021-06-25T10:33:08.748531Z"
    },
    "papermill": {
     "duration": 7.065184,
     "end_time": "2021-06-25T10:33:08.749273",
     "exception": false,
     "start_time": "2021-06-25T10:33:01.684089",
     "status": "completed"
    },
    "tags": []
   },
   "outputs": [],
   "source": [
    "# Export to CSV\n",
    "data.to_csv(\"data/StackOverflow_tokenized.csv\", sep=\";\")"
   ]
  }
 ],
 "metadata": {
  "kernelspec": {
   "display_name": "Python 3",
   "language": "python",
   "name": "python3"
  },
  "language_info": {
   "codemirror_mode": {
    "name": "ipython",
    "version": 3
   },
   "file_extension": ".py",
   "mimetype": "text/x-python",
   "name": "python",
   "nbconvert_exporter": "python",
   "pygments_lexer": "ipython3",
   "version": "3.11.4"
  },
  "papermill": {
   "default_parameters": {},
   "duration": 3539.504385,
   "end_time": "2021-06-25T10:33:16.984528",
   "environment_variables": {},
   "exception": null,
   "input_path": "__notebook__.ipynb",
   "output_path": "__notebook__.ipynb",
   "parameters": {},
   "start_time": "2021-06-25T09:34:17.480143",
   "version": "2.3.3"
  }
 },
 "nbformat": 4,
 "nbformat_minor": 5
}
